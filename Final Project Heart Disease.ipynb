{
 "cells": [
  {
   "cell_type": "code",
   "execution_count": 1,
   "id": "0c1566d2",
   "metadata": {},
   "outputs": [],
   "source": [
    "import pandas as pd\n",
    "import numpy as np\n",
    "import seaborn as sns\n",
    "import matplotlib.pyplot as plt"
   ]
  },
  {
   "cell_type": "code",
   "execution_count": 2,
   "id": "e3f8e63c",
   "metadata": {},
   "outputs": [],
   "source": [
    "data = pd.read_csv(\"heart_disease dataset.csv\")"
   ]
  },
  {
   "cell_type": "code",
   "execution_count": 3,
   "id": "8ca8331f",
   "metadata": {},
   "outputs": [
    {
     "data": {
      "text/html": [
       "<div>\n",
       "<style scoped>\n",
       "    .dataframe tbody tr th:only-of-type {\n",
       "        vertical-align: middle;\n",
       "    }\n",
       "\n",
       "    .dataframe tbody tr th {\n",
       "        vertical-align: top;\n",
       "    }\n",
       "\n",
       "    .dataframe thead th {\n",
       "        text-align: right;\n",
       "    }\n",
       "</style>\n",
       "<table border=\"1\" class=\"dataframe\">\n",
       "  <thead>\n",
       "    <tr style=\"text-align: right;\">\n",
       "      <th></th>\n",
       "      <th>age</th>\n",
       "      <th>sex</th>\n",
       "      <th>cp</th>\n",
       "      <th>trestbps</th>\n",
       "      <th>chol</th>\n",
       "      <th>fbs</th>\n",
       "      <th>restecg</th>\n",
       "      <th>thalach</th>\n",
       "      <th>exang</th>\n",
       "      <th>oldpeak</th>\n",
       "      <th>slope</th>\n",
       "      <th>ca</th>\n",
       "      <th>thal</th>\n",
       "      <th>target</th>\n",
       "    </tr>\n",
       "  </thead>\n",
       "  <tbody>\n",
       "    <tr>\n",
       "      <th>0</th>\n",
       "      <td>52</td>\n",
       "      <td>1</td>\n",
       "      <td>0</td>\n",
       "      <td>125</td>\n",
       "      <td>212</td>\n",
       "      <td>0</td>\n",
       "      <td>1</td>\n",
       "      <td>168</td>\n",
       "      <td>0</td>\n",
       "      <td>1.0</td>\n",
       "      <td>2</td>\n",
       "      <td>2</td>\n",
       "      <td>3</td>\n",
       "      <td>0</td>\n",
       "    </tr>\n",
       "    <tr>\n",
       "      <th>1</th>\n",
       "      <td>53</td>\n",
       "      <td>1</td>\n",
       "      <td>0</td>\n",
       "      <td>140</td>\n",
       "      <td>203</td>\n",
       "      <td>1</td>\n",
       "      <td>0</td>\n",
       "      <td>155</td>\n",
       "      <td>1</td>\n",
       "      <td>3.1</td>\n",
       "      <td>0</td>\n",
       "      <td>0</td>\n",
       "      <td>3</td>\n",
       "      <td>0</td>\n",
       "    </tr>\n",
       "    <tr>\n",
       "      <th>2</th>\n",
       "      <td>70</td>\n",
       "      <td>1</td>\n",
       "      <td>0</td>\n",
       "      <td>145</td>\n",
       "      <td>174</td>\n",
       "      <td>0</td>\n",
       "      <td>1</td>\n",
       "      <td>125</td>\n",
       "      <td>1</td>\n",
       "      <td>2.6</td>\n",
       "      <td>0</td>\n",
       "      <td>0</td>\n",
       "      <td>3</td>\n",
       "      <td>0</td>\n",
       "    </tr>\n",
       "    <tr>\n",
       "      <th>3</th>\n",
       "      <td>61</td>\n",
       "      <td>1</td>\n",
       "      <td>0</td>\n",
       "      <td>148</td>\n",
       "      <td>203</td>\n",
       "      <td>0</td>\n",
       "      <td>1</td>\n",
       "      <td>161</td>\n",
       "      <td>0</td>\n",
       "      <td>0.0</td>\n",
       "      <td>2</td>\n",
       "      <td>1</td>\n",
       "      <td>3</td>\n",
       "      <td>0</td>\n",
       "    </tr>\n",
       "    <tr>\n",
       "      <th>4</th>\n",
       "      <td>62</td>\n",
       "      <td>0</td>\n",
       "      <td>0</td>\n",
       "      <td>138</td>\n",
       "      <td>294</td>\n",
       "      <td>1</td>\n",
       "      <td>1</td>\n",
       "      <td>106</td>\n",
       "      <td>0</td>\n",
       "      <td>1.9</td>\n",
       "      <td>1</td>\n",
       "      <td>3</td>\n",
       "      <td>2</td>\n",
       "      <td>0</td>\n",
       "    </tr>\n",
       "    <tr>\n",
       "      <th>...</th>\n",
       "      <td>...</td>\n",
       "      <td>...</td>\n",
       "      <td>...</td>\n",
       "      <td>...</td>\n",
       "      <td>...</td>\n",
       "      <td>...</td>\n",
       "      <td>...</td>\n",
       "      <td>...</td>\n",
       "      <td>...</td>\n",
       "      <td>...</td>\n",
       "      <td>...</td>\n",
       "      <td>...</td>\n",
       "      <td>...</td>\n",
       "      <td>...</td>\n",
       "    </tr>\n",
       "    <tr>\n",
       "      <th>1020</th>\n",
       "      <td>59</td>\n",
       "      <td>1</td>\n",
       "      <td>1</td>\n",
       "      <td>140</td>\n",
       "      <td>221</td>\n",
       "      <td>0</td>\n",
       "      <td>1</td>\n",
       "      <td>164</td>\n",
       "      <td>1</td>\n",
       "      <td>0.0</td>\n",
       "      <td>2</td>\n",
       "      <td>0</td>\n",
       "      <td>2</td>\n",
       "      <td>1</td>\n",
       "    </tr>\n",
       "    <tr>\n",
       "      <th>1021</th>\n",
       "      <td>60</td>\n",
       "      <td>1</td>\n",
       "      <td>0</td>\n",
       "      <td>125</td>\n",
       "      <td>258</td>\n",
       "      <td>0</td>\n",
       "      <td>0</td>\n",
       "      <td>141</td>\n",
       "      <td>1</td>\n",
       "      <td>2.8</td>\n",
       "      <td>1</td>\n",
       "      <td>1</td>\n",
       "      <td>3</td>\n",
       "      <td>0</td>\n",
       "    </tr>\n",
       "    <tr>\n",
       "      <th>1022</th>\n",
       "      <td>47</td>\n",
       "      <td>1</td>\n",
       "      <td>0</td>\n",
       "      <td>110</td>\n",
       "      <td>275</td>\n",
       "      <td>0</td>\n",
       "      <td>0</td>\n",
       "      <td>118</td>\n",
       "      <td>1</td>\n",
       "      <td>1.0</td>\n",
       "      <td>1</td>\n",
       "      <td>1</td>\n",
       "      <td>2</td>\n",
       "      <td>0</td>\n",
       "    </tr>\n",
       "    <tr>\n",
       "      <th>1023</th>\n",
       "      <td>50</td>\n",
       "      <td>0</td>\n",
       "      <td>0</td>\n",
       "      <td>110</td>\n",
       "      <td>254</td>\n",
       "      <td>0</td>\n",
       "      <td>0</td>\n",
       "      <td>159</td>\n",
       "      <td>0</td>\n",
       "      <td>0.0</td>\n",
       "      <td>2</td>\n",
       "      <td>0</td>\n",
       "      <td>2</td>\n",
       "      <td>1</td>\n",
       "    </tr>\n",
       "    <tr>\n",
       "      <th>1024</th>\n",
       "      <td>54</td>\n",
       "      <td>1</td>\n",
       "      <td>0</td>\n",
       "      <td>120</td>\n",
       "      <td>188</td>\n",
       "      <td>0</td>\n",
       "      <td>1</td>\n",
       "      <td>113</td>\n",
       "      <td>0</td>\n",
       "      <td>1.4</td>\n",
       "      <td>1</td>\n",
       "      <td>1</td>\n",
       "      <td>3</td>\n",
       "      <td>0</td>\n",
       "    </tr>\n",
       "  </tbody>\n",
       "</table>\n",
       "<p>1025 rows × 14 columns</p>\n",
       "</div>"
      ],
      "text/plain": [
       "      age  sex  cp  trestbps  chol  fbs  restecg  thalach  exang  oldpeak  \\\n",
       "0      52    1   0       125   212    0        1      168      0      1.0   \n",
       "1      53    1   0       140   203    1        0      155      1      3.1   \n",
       "2      70    1   0       145   174    0        1      125      1      2.6   \n",
       "3      61    1   0       148   203    0        1      161      0      0.0   \n",
       "4      62    0   0       138   294    1        1      106      0      1.9   \n",
       "...   ...  ...  ..       ...   ...  ...      ...      ...    ...      ...   \n",
       "1020   59    1   1       140   221    0        1      164      1      0.0   \n",
       "1021   60    1   0       125   258    0        0      141      1      2.8   \n",
       "1022   47    1   0       110   275    0        0      118      1      1.0   \n",
       "1023   50    0   0       110   254    0        0      159      0      0.0   \n",
       "1024   54    1   0       120   188    0        1      113      0      1.4   \n",
       "\n",
       "      slope  ca  thal  target  \n",
       "0         2   2     3       0  \n",
       "1         0   0     3       0  \n",
       "2         0   0     3       0  \n",
       "3         2   1     3       0  \n",
       "4         1   3     2       0  \n",
       "...     ...  ..   ...     ...  \n",
       "1020      2   0     2       1  \n",
       "1021      1   1     3       0  \n",
       "1022      1   1     2       0  \n",
       "1023      2   0     2       1  \n",
       "1024      1   1     3       0  \n",
       "\n",
       "[1025 rows x 14 columns]"
      ]
     },
     "execution_count": 3,
     "metadata": {},
     "output_type": "execute_result"
    }
   ],
   "source": [
    "data"
   ]
  },
  {
   "cell_type": "code",
   "execution_count": 6,
   "id": "7b9d6c18",
   "metadata": {},
   "outputs": [
    {
     "data": {
      "text/plain": [
       "age           int64\n",
       "sex           int64\n",
       "cp            int64\n",
       "trestbps      int64\n",
       "chol          int64\n",
       "fbs           int64\n",
       "restecg       int64\n",
       "thalach       int64\n",
       "exang         int64\n",
       "oldpeak     float64\n",
       "slope         int64\n",
       "ca            int64\n",
       "thal          int64\n",
       "target        int64\n",
       "dtype: object"
      ]
     },
     "execution_count": 6,
     "metadata": {},
     "output_type": "execute_result"
    }
   ],
   "source": [
    "pd.set_option('display.max_rows', 800)\n",
    "data.dtypes"
   ]
  },
  {
   "cell_type": "code",
   "execution_count": 12,
   "id": "241bd8e9",
   "metadata": {},
   "outputs": [
    {
     "data": {
      "text/plain": [
       "slope\n",
       "0     74\n",
       "1    482\n",
       "2    469\n",
       "dtype: int64"
      ]
     },
     "execution_count": 12,
     "metadata": {},
     "output_type": "execute_result"
    }
   ],
   "source": [
    "data.groupby('slope').size()"
   ]
  },
  {
   "cell_type": "code",
   "execution_count": 13,
   "id": "57c51857",
   "metadata": {},
   "outputs": [
    {
     "data": {
      "text/plain": [
       "Index(['age', 'sex', 'cp', 'trestbps', 'chol', 'fbs', 'restecg', 'thalach',\n",
       "       'exang', 'oldpeak', 'slope', 'ca', 'thal', 'target'],\n",
       "      dtype='object')"
      ]
     },
     "execution_count": 13,
     "metadata": {},
     "output_type": "execute_result"
    }
   ],
   "source": [
    "data.columns"
   ]
  },
  {
   "cell_type": "markdown",
   "id": "959cf8bb",
   "metadata": {},
   "source": [
    "# Model Evaluation"
   ]
  },
  {
   "cell_type": "code",
   "execution_count": 14,
   "id": "6d700d16",
   "metadata": {},
   "outputs": [],
   "source": [
    "import numpy as np\n",
    "from sklearn.model_selection import train_test_split\n",
    "from sklearn.tree import DecisionTreeClassifier\n",
    "from sklearn.neighbors import KNeighborsClassifier\n",
    "from sklearn.ensemble import RandomForestClassifier\n",
    "from sklearn.linear_model import LogisticRegression\n",
    "from sklearn.naive_bayes import GaussianNB\n",
    "from sklearn.metrics import accuracy_score, confusion_matrix"
   ]
  },
  {
   "cell_type": "markdown",
   "id": "fb290797",
   "metadata": {},
   "source": [
    "Train Test Split"
   ]
  },
  {
   "cell_type": "code",
   "execution_count": 15,
   "id": "93c5cf69",
   "metadata": {},
   "outputs": [
    {
     "name": "stdout",
     "output_type": "stream",
     "text": [
      "[0. 0. 0. ... 0. 1. 0.]\n"
     ]
    }
   ],
   "source": [
    "arr = data.values\n",
    "\n",
    "X = arr[:,0:-1]\n",
    "y = arr[:,-1]\n",
    "\n",
    "testing_size = 0.2\n",
    "print(y)"
   ]
  },
  {
   "cell_type": "code",
   "execution_count": 16,
   "id": "a62497db",
   "metadata": {},
   "outputs": [],
   "source": [
    "x = data.drop( \"slope\" ,axis=1)\n",
    "y = data [\"slope\"]"
   ]
  },
  {
   "cell_type": "code",
   "execution_count": 17,
   "id": "b2719178",
   "metadata": {},
   "outputs": [
    {
     "name": "stdout",
     "output_type": "stream",
     "text": [
      "      age  sex  cp  trestbps  chol  fbs  restecg  thalach  exang  oldpeak  ca  \\\n",
      "0      52    1   0       125   212    0        1      168      0      1.0   2   \n",
      "1      53    1   0       140   203    1        0      155      1      3.1   0   \n",
      "2      70    1   0       145   174    0        1      125      1      2.6   0   \n",
      "3      61    1   0       148   203    0        1      161      0      0.0   1   \n",
      "4      62    0   0       138   294    1        1      106      0      1.9   3   \n",
      "...   ...  ...  ..       ...   ...  ...      ...      ...    ...      ...  ..   \n",
      "1020   59    1   1       140   221    0        1      164      1      0.0   0   \n",
      "1021   60    1   0       125   258    0        0      141      1      2.8   1   \n",
      "1022   47    1   0       110   275    0        0      118      1      1.0   1   \n",
      "1023   50    0   0       110   254    0        0      159      0      0.0   0   \n",
      "1024   54    1   0       120   188    0        1      113      0      1.4   1   \n",
      "\n",
      "      thal  target  \n",
      "0        3       0  \n",
      "1        3       0  \n",
      "2        3       0  \n",
      "3        3       0  \n",
      "4        2       0  \n",
      "...    ...     ...  \n",
      "1020     2       1  \n",
      "1021     3       0  \n",
      "1022     2       0  \n",
      "1023     2       1  \n",
      "1024     3       0  \n",
      "\n",
      "[1025 rows x 13 columns]\n",
      "0       2\n",
      "1       0\n",
      "2       0\n",
      "3       2\n",
      "4       1\n",
      "       ..\n",
      "1020    2\n",
      "1021    1\n",
      "1022    1\n",
      "1023    2\n",
      "1024    1\n",
      "Name: slope, Length: 1025, dtype: int64\n"
     ]
    }
   ],
   "source": [
    "print (x)\n",
    "print (y)"
   ]
  },
  {
   "cell_type": "code",
   "execution_count": 18,
   "id": "dc3f1387",
   "metadata": {},
   "outputs": [],
   "source": [
    "X_train, X_test, y_train, y_test = train_test_split(x, y, test_size=testing_size)"
   ]
  },
  {
   "cell_type": "code",
   "execution_count": 19,
   "id": "abf65db7",
   "metadata": {},
   "outputs": [
    {
     "name": "stdout",
     "output_type": "stream",
     "text": [
      "629     1\n",
      "514     2\n",
      "536     1\n",
      "774     2\n",
      "527     2\n",
      "107     1\n",
      "322     1\n",
      "349     1\n",
      "166     1\n",
      "185     1\n",
      "307     2\n",
      "488     2\n",
      "507     2\n",
      "275     0\n",
      "785     1\n",
      "1012    0\n",
      "382     1\n",
      "863     2\n",
      "776     1\n",
      "137     2\n",
      "592     1\n",
      "324     1\n",
      "813     0\n",
      "590     2\n",
      "521     1\n",
      "418     2\n",
      "461     2\n",
      "346     1\n",
      "478     2\n",
      "615     1\n",
      "18      2\n",
      "977     2\n",
      "176     0\n",
      "227     1\n",
      "23      2\n",
      "81      2\n",
      "838     2\n",
      "203     1\n",
      "913     1\n",
      "179     1\n",
      "965     1\n",
      "988     1\n",
      "823     2\n",
      "707     1\n",
      "531     2\n",
      "583     1\n",
      "444     2\n",
      "310     1\n",
      "905     0\n",
      "513     1\n",
      "305     1\n",
      "223     2\n",
      "969     2\n",
      "386     1\n",
      "420     2\n",
      "291     1\n",
      "946     2\n",
      "191     2\n",
      "528     0\n",
      "756     0\n",
      "428     1\n",
      "771     1\n",
      "219     1\n",
      "449     2\n",
      "850     1\n",
      "316     2\n",
      "142     1\n",
      "787     1\n",
      "180     2\n",
      "1001    2\n",
      "326     2\n",
      "111     2\n",
      "1011    2\n",
      "644     2\n",
      "289     2\n",
      "25      1\n",
      "605     2\n",
      "426     2\n",
      "723     1\n",
      "655     2\n",
      "445     2\n",
      "287     2\n",
      "962     2\n",
      "1009    2\n",
      "345     1\n",
      "184     2\n",
      "172     0\n",
      "437     1\n",
      "832     2\n",
      "960     1\n",
      "865     2\n",
      "555     1\n",
      "45      2\n",
      "124     1\n",
      "572     2\n",
      "566     2\n",
      "12      2\n",
      "281     2\n",
      "400     1\n",
      "452     1\n",
      "833     0\n",
      "317     2\n",
      "6       0\n",
      "239     1\n",
      "278     1\n",
      "411     1\n",
      "952     2\n",
      "508     0\n",
      "641     1\n",
      "84      2\n",
      "870     2\n",
      "953     1\n",
      "845     1\n",
      "606     2\n",
      "443     2\n",
      "938     2\n",
      "840     0\n",
      "7       1\n",
      "579     1\n",
      "954     1\n",
      "389     0\n",
      "321     2\n",
      "688     0\n",
      "678     2\n",
      "152     2\n",
      "918     2\n",
      "304     1\n",
      "4       1\n",
      "656     1\n",
      "1006    2\n",
      "632     1\n",
      "337     0\n",
      "114     1\n",
      "611     1\n",
      "794     1\n",
      "53      1\n",
      "923     2\n",
      "651     2\n",
      "90      2\n",
      "34      2\n",
      "500     1\n",
      "931     2\n",
      "859     2\n",
      "717     1\n",
      "556     2\n",
      "410     2\n",
      "257     2\n",
      "665     2\n",
      "487     1\n",
      "911     2\n",
      "237     2\n",
      "200     2\n",
      "684     1\n",
      "638     1\n",
      "430     1\n",
      "38      1\n",
      "408     1\n",
      "751     2\n",
      "985     1\n",
      "578     1\n",
      "895     1\n",
      "364     1\n",
      "447     1\n",
      "336     2\n",
      "414     1\n",
      "758     2\n",
      "300     2\n",
      "747     2\n",
      "634     2\n",
      "586     1\n",
      "948     0\n",
      "616     1\n",
      "252     1\n",
      "74      2\n",
      "436     1\n",
      "593     1\n",
      "839     2\n",
      "438     2\n",
      "141     1\n",
      "75      2\n",
      "945     1\n",
      "280     1\n",
      "694     1\n",
      "383     2\n",
      "30      0\n",
      "64      2\n",
      "131     2\n",
      "97      1\n",
      "873     1\n",
      "951     1\n",
      "96      2\n",
      "33      1\n",
      "380     1\n",
      "983     1\n",
      "525     2\n",
      "777     1\n",
      "902     0\n",
      "43      2\n",
      "695     2\n",
      "318     2\n",
      "971     2\n",
      "793     2\n",
      "260     2\n",
      "661     0\n",
      "657     1\n",
      "Name: slope, dtype: int64\n"
     ]
    }
   ],
   "source": [
    "print(y_test)"
   ]
  },
  {
   "cell_type": "code",
   "execution_count": 21,
   "id": "c5e96c39",
   "metadata": {},
   "outputs": [
    {
     "name": "stdout",
     "output_type": "stream",
     "text": [
      "Decision Tree accuracy score is: 98.53658536585365\n"
     ]
    }
   ],
   "source": [
    "DT = DecisionTreeClassifier()\n",
    "DT.fit(X_train, y_train)\n",
    "y_pred = DT.predict(X_test)\n",
    "acc = accuracy_score(y_test, y_pred)*100\n",
    "print(f\"Decision Tree accuracy score is: {acc}\")"
   ]
  },
  {
   "cell_type": "code",
   "execution_count": 23,
   "id": "95564d0e",
   "metadata": {},
   "outputs": [
    {
     "name": "stdout",
     "output_type": "stream",
     "text": [
      "Random Forest accuracy is: 100.0\n"
     ]
    }
   ],
   "source": [
    "RT = RandomForestClassifier()\n",
    "RT.fit(X_train, y_train)\n",
    "y_pred = RT.predict(X_test)\n",
    "acc = accuracy_score(y_test, y_pred)*100\n",
    "print(f\"Random Forest accuracy is: {acc}\")"
   ]
  },
  {
   "cell_type": "code",
   "execution_count": 51,
   "id": "5fce5352",
   "metadata": {},
   "outputs": [
    {
     "name": "stdout",
     "output_type": "stream",
     "text": [
      "Logistic Regression accuracy is: 71.70731707317073\n"
     ]
    },
    {
     "name": "stderr",
     "output_type": "stream",
     "text": [
      "C:\\Users\\Abdul Basit\\anaconda3\\lib\\site-packages\\sklearn\\linear_model\\_logistic.py:763: ConvergenceWarning: lbfgs failed to converge (status=1):\n",
      "STOP: TOTAL NO. of ITERATIONS REACHED LIMIT.\n",
      "\n",
      "Increase the number of iterations (max_iter) or scale the data as shown in:\n",
      "    https://scikit-learn.org/stable/modules/preprocessing.html\n",
      "Please also refer to the documentation for alternative solver options:\n",
      "    https://scikit-learn.org/stable/modules/linear_model.html#logistic-regression\n",
      "  n_iter_i = _check_optimize_result(\n"
     ]
    }
   ],
   "source": [
    "LR = LogisticRegression()\n",
    "LR.fit(X_train, y_train)\n",
    "y_pred = LR.predict(X_test)\n",
    "acc = accuracy_score(y_test, y_pred)*100\n",
    "print(f\"Logistic Regression accuracy is: {acc}\")"
   ]
  },
  {
   "cell_type": "code",
   "execution_count": 52,
   "id": "8f8fff6d",
   "metadata": {},
   "outputs": [
    {
     "name": "stdout",
     "output_type": "stream",
     "text": [
      "Gaussian NB accuracy is: 71.21951219512195\n"
     ]
    }
   ],
   "source": [
    "GNB = GaussianNB()\n",
    "GNB.fit(X_train, y_train)\n",
    "y_pred = GNB.predict(X_test)\n",
    "acc = accuracy_score(y_test, y_pred)*100\n",
    "print(f\"Gaussian NB accuracy is: {acc}\")"
   ]
  },
  {
   "cell_type": "code",
   "execution_count": 24,
   "id": "12cf87b8",
   "metadata": {},
   "outputs": [],
   "source": [
    "models = []\n",
    "models.append(('DT',DecisionTreeClassifier()))\n",
    "models.append(('RT',RandomForestClassifier()))\n",
    "models.append(('KNN', KNeighborsClassifier()))\n",
    "models.append(('LR', LogisticRegression()))\n",
    "models.append(('GNB', GaussianNB()))"
   ]
  },
  {
   "cell_type": "code",
   "execution_count": 25,
   "id": "3ebb1393",
   "metadata": {},
   "outputs": [
    {
     "name": "stdout",
     "output_type": "stream",
     "text": [
      "[('DT', DecisionTreeClassifier()), ('RT', RandomForestClassifier()), ('KNN', KNeighborsClassifier()), ('LR', LogisticRegression()), ('GNB', GaussianNB())]\n"
     ]
    }
   ],
   "source": [
    "print(models)"
   ]
  },
  {
   "cell_type": "code",
   "execution_count": 26,
   "id": "f4206caf",
   "metadata": {},
   "outputs": [],
   "source": [
    "cn_metrics = []"
   ]
  },
  {
   "cell_type": "code",
   "execution_count": 32,
   "id": "5ba797dc",
   "metadata": {},
   "outputs": [],
   "source": [
    "names = []\n",
    "results = []"
   ]
  },
  {
   "cell_type": "code",
   "execution_count": 33,
   "id": "cf2cd2aa",
   "metadata": {},
   "outputs": [
    {
     "name": "stdout",
     "output_type": "stream",
     "text": [
      "[98.53658536585365]\n",
      "[98.53658536585365, 98.53658536585365]\n",
      "[98.53658536585365, 98.53658536585365, 71.21951219512195]\n",
      "[98.53658536585365, 98.53658536585365, 71.21951219512195, 71.70731707317073]\n",
      "[98.53658536585365, 98.53658536585365, 71.21951219512195, 71.70731707317073, 71.21951219512195]\n"
     ]
    },
    {
     "name": "stderr",
     "output_type": "stream",
     "text": [
      "C:\\Users\\Abdul Basit\\anaconda3\\lib\\site-packages\\sklearn\\linear_model\\_logistic.py:763: ConvergenceWarning: lbfgs failed to converge (status=1):\n",
      "STOP: TOTAL NO. of ITERATIONS REACHED LIMIT.\n",
      "\n",
      "Increase the number of iterations (max_iter) or scale the data as shown in:\n",
      "    https://scikit-learn.org/stable/modules/preprocessing.html\n",
      "Please also refer to the documentation for alternative solver options:\n",
      "    https://scikit-learn.org/stable/modules/linear_model.html#logistic-regression\n",
      "  n_iter_i = _check_optimize_result(\n"
     ]
    }
   ],
   "source": [
    "for name, model in models:\n",
    "    obj = model\n",
    "    names.append(name)\n",
    "    obj.fit(X_train, y_train)\n",
    "    y_pred = obj.predict(X_test)\n",
    "    results.append(accuracy_score(y_test, y_pred)*100)\n",
    "    print(results)"
   ]
  },
  {
   "cell_type": "code",
   "execution_count": 34,
   "id": "cb2de5dc",
   "metadata": {},
   "outputs": [],
   "source": [
    "import matplotlib.pyplot as plt"
   ]
  },
  {
   "cell_type": "code",
   "execution_count": 35,
   "id": "cf8dcd27",
   "metadata": {},
   "outputs": [
    {
     "data": {
      "text/plain": [
       "<matplotlib.collections.PathCollection at 0x23406c99f40>"
      ]
     },
     "execution_count": 35,
     "metadata": {},
     "output_type": "execute_result"
    },
    {
     "data": {
      "image/png": "[encoded data removed]",
      "text/plain": [
       "<Figure size 432x288 with 1 Axes>"
      ]
     },
     "metadata": {
      "needs_background": "light"
     },
     "output_type": "display_data"
    }
   ],
   "source": [
    "plt.scatter(names, results)"
   ]
  },
  {
   "cell_type": "code",
   "execution_count": 38,
   "id": "cdaf47bb",
   "metadata": {},
   "outputs": [
    {
     "name": "stdout",
     "output_type": "stream",
     "text": [
      "[1 2 1 1 2 1 1 1 1 1 2 2 2 0 1 0 1 2 1 2 1 1 0 2 1 2 2 1 2 1 2 2 0 1 2 2 2\n",
      " 1 1 1 1 1 2 1 2 1 2 1 0 1 1 2 2 1 2 1 2 2 0 0 1 1 1 2 1 2 1 1 2 2 2 2 2 2\n",
      " 2 1 2 2 1 2 2 2 2 2 1 2 0 1 2 1 2 1 2 1 2 2 2 2 1 1 0 2 0 1 1 1 2 0 1 2 1\n",
      " 1 1 2 2 2 0 1 1 1 0 1 0 2 2 2 1 1 1 2 1 0 1 1 1 1 2 2 2 2 1 2 2 1 2 2 2 2\n",
      " 1 2 2 2 1 1 1 1 1 2 1 1 1 1 1 2 1 2 2 2 2 1 0 1 1 2 1 1 2 2 1 2 1 1 1 2 0\n",
      " 2 2 1 1 1 2 1 1 1 2 1 0 2 2 2 2 2 2 0 1]\n",
      "Random Forest accuracy is: 98.53658536585365\n",
      "Confusion matrix of RandomFrest Classifier :[[19  0  0]\n",
      " [ 0 91  0]\n",
      " [ 0  3 92]]\n"
     ]
    },
    {
     "data": {
      "text/plain": [
       "<AxesSubplot:>"
      ]
     },
     "execution_count": 38,
     "metadata": {},
     "output_type": "execute_result"
    },
    {
     "data": {
      "image/png": "[encoded data removed]",
      "text/plain": [
       "<Figure size 432x288 with 2 Axes>"
      ]
     },
     "metadata": {
      "needs_background": "light"
     },
     "output_type": "display_data"
    }
   ],
   "source": [
    "RT = RandomForestClassifier()\n",
    "RT.fit(X_train, y_train)\n",
    "y_pred = RT.predict(X_test)\n",
    "print(y_pred)\n",
    "acc = accuracy_score(y_test, y_pred)*100\n",
    "conf_matrix=confusion_matrix(y_test,y_pred)\n",
    "print(f\"Random Forest accuracy is: {acc}\")\n",
    "print(f\"Confusion matrix of RandomFrest Classifier :{conf_matrix}\")\n",
    "sns.heatmap(conf_matrix, annot=True)"
   ]
  },
  {
   "cell_type": "code",
   "execution_count": 41,
   "id": "148cee7b",
   "metadata": {},
   "outputs": [
    {
     "name": "stdout",
     "output_type": "stream",
     "text": [
      "[2 2 2 2 2 1 1 1 1 1 2 2 2 1 1 2 1 2 1 1 1 2 0 1 2 2 2 1 2 2 2 2 1 2 2 1 1\n",
      " 2 1 1 1 1 2 2 2 1 2 1 1 1 1 2 2 2 2 1 2 2 0 1 1 2 1 2 1 2 1 1 1 2 0 1 2 2\n",
      " 2 1 2 2 1 2 2 2 2 2 1 2 2 1 2 2 2 2 2 1 2 2 2 2 1 1 0 2 1 1 1 1 2 0 1 2 2\n",
      " 2 1 1 2 1 1 1 1 2 0 2 0 2 2 2 2 1 2 2 2 2 1 1 1 1 2 2 2 2 1 2 1 1 1 2 1 2\n",
      " 1 2 2 2 1 2 1 1 2 2 1 2 1 2 1 2 2 2 2 1 2 1 1 2 1 1 1 1 2 2 1 2 2 2 1 1 1\n",
      " 2 2 1 2 1 2 1 1 1 2 1 1 1 1 1 2 1 2 1 2]\n",
      "GaussianNB is: 71.21951219512195\n",
      "Confusion matrix of GaussianNB :[[ 6 10  3]\n",
      " [ 0 64 27]\n",
      " [ 1 18 76]]\n"
     ]
    },
    {
     "data": {
      "text/plain": [
       "<AxesSubplot:>"
      ]
     },
     "execution_count": 41,
     "metadata": {},
     "output_type": "execute_result"
    },
    {
     "data": {
      "image/png": "[encoded data removed]",
      "text/plain": [
       "<Figure size 432x288 with 2 Axes>"
      ]
     },
     "metadata": {
      "needs_background": "light"
     },
     "output_type": "display_data"
    }
   ],
   "source": [
    "GN = GaussianNB()\n",
    "GN.fit(X_train, y_train)\n",
    "y_pred = GN.predict(X_test)\n",
    "print(y_pred)\n",
    "acc = accuracy_score(y_test, y_pred)*100\n",
    "conf_matrix=confusion_matrix(y_test,y_pred)\n",
    "print(f\"GaussianNB is: {acc}\")\n",
    "print(f\"Confusion matrix of GaussianNB :{conf_matrix}\")\n",
    "sns.heatmap(conf_matrix, annot=True)"
   ]
  },
  {
   "cell_type": "code",
   "execution_count": 47,
   "id": "7b1991e4",
   "metadata": {},
   "outputs": [
    {
     "name": "stdout",
     "output_type": "stream",
     "text": [
      "[2 2 2 2 2 1 2 1 1 1 2 2 2 1 1 2 1 2 1 2 1 2 1 1 2 2 2 1 2 2 2 2 1 2 2 2 1\n",
      " 2 1 1 1 1 2 1 2 1 2 1 1 1 1 2 2 2 2 1 2 2 1 1 2 2 1 2 1 2 1 1 1 2 2 1 2 2\n",
      " 2 1 2 2 1 2 2 2 2 2 1 2 2 1 1 2 2 2 2 1 2 2 2 2 1 1 1 2 1 1 1 1 2 1 1 2 2\n",
      " 2 1 2 2 1 1 1 1 2 1 2 1 2 2 2 2 1 2 2 2 2 1 1 1 1 2 2 2 2 1 2 1 2 2 2 2 2\n",
      " 1 2 2 2 1 2 1 1 2 1 1 1 1 2 1 2 2 2 2 1 2 1 1 2 1 2 1 1 2 2 2 2 1 2 1 1 1\n",
      " 2 2 1 2 1 2 1 1 1 2 1 1 1 2 2 2 2 2 1 2]\n",
      "Logistic Regression accuracy is: 71.70731707317073\n",
      "Confusion matrix of Logistic Regression :[[ 0 16  3]\n",
      " [ 0 63 28]\n",
      " [ 0 11 84]]\n"
     ]
    },
    {
     "name": "stderr",
     "output_type": "stream",
     "text": [
      "C:\\Users\\Abdul Basit\\anaconda3\\lib\\site-packages\\sklearn\\linear_model\\_logistic.py:763: ConvergenceWarning: lbfgs failed to converge (status=1):\n",
      "STOP: TOTAL NO. of ITERATIONS REACHED LIMIT.\n",
      "\n",
      "Increase the number of iterations (max_iter) or scale the data as shown in:\n",
      "    https://scikit-learn.org/stable/modules/preprocessing.html\n",
      "Please also refer to the documentation for alternative solver options:\n",
      "    https://scikit-learn.org/stable/modules/linear_model.html#logistic-regression\n",
      "  n_iter_i = _check_optimize_result(\n"
     ]
    },
    {
     "data": {
      "text/plain": [
       "<AxesSubplot:>"
      ]
     },
     "execution_count": 47,
     "metadata": {},
     "output_type": "execute_result"
    },
    {
     "data": {
      "image/png": "[encoded data removed]",
      "text/plain": [
       "<Figure size 432x288 with 2 Axes>"
      ]
     },
     "metadata": {
      "needs_background": "light"
     },
     "output_type": "display_data"
    }
   ],
   "source": [
    "LR = LogisticRegression()\n",
    "LR.fit(X_train, y_train)\n",
    "y_pred = LR.predict(X_test)\n",
    "print(y_pred)\n",
    "acc = accuracy_score(y_test, y_pred)*100\n",
    "conf_matrix=confusion_matrix(y_test,y_pred)\n",
    "print(f\"Logistic Regression accuracy is: {acc}\")\n",
    "print(f\"Confusion matrix of Logistic Regression :{conf_matrix}\")\n",
    "sns.heatmap(conf_matrix, annot=True)"
   ]
  },
  {
   "cell_type": "code",
   "execution_count": 48,
   "id": "57e2af99",
   "metadata": {},
   "outputs": [
    {
     "name": "stdout",
     "output_type": "stream",
     "text": [
      "[1 2 1 0 2 1 2 1 1 1 2 1 1 1 1 0 1 2 2 0 2 2 0 2 1 2 2 1 2 1 1 2 1 2 2 2 1\n",
      " 1 2 1 1 1 2 2 1 1 2 1 1 1 1 2 2 1 2 1 2 2 1 1 1 1 1 2 1 1 1 1 2 2 1 0 2 2\n",
      " 2 2 2 2 2 2 2 1 1 2 1 2 0 1 1 2 2 2 2 1 2 2 2 2 1 1 0 2 1 0 1 1 2 0 1 1 0\n",
      " 1 1 2 2 0 1 1 0 2 2 0 0 2 2 2 2 1 2 2 2 2 1 1 1 1 2 2 1 2 1 2 2 1 1 2 0 1\n",
      " 1 2 2 2 1 1 1 1 1 2 1 1 1 2 1 2 1 2 2 2 2 1 1 2 1 2 2 1 2 2 1 2 1 2 1 1 0\n",
      " 2 2 1 2 1 2 2 0 1 2 1 0 2 2 1 2 1 2 1 1]\n",
      "KNeighbors Classifier accuracy is: 71.21951219512195\n",
      "Confusion matrix of KNeighbors Classifier :[[ 8  9  2]\n",
      " [ 3 67 21]\n",
      " [ 7 17 71]]\n"
     ]
    },
    {
     "data": {
      "text/plain": [
       "<AxesSubplot:>"
      ]
     },
     "execution_count": 48,
     "metadata": {},
     "output_type": "execute_result"
    },
    {
     "data": {
      "image/png": "[encoded data removed]",
      "text/plain": [
       "<Figure size 432x288 with 2 Axes>"
      ]
     },
     "metadata": {
      "needs_background": "light"
     },
     "output_type": "display_data"
    }
   ],
   "source": [
    "KN = KNeighborsClassifier()\n",
    "KN.fit(X_train, y_train)\n",
    "y_pred = KN.predict(X_test)\n",
    "print(y_pred)\n",
    "acc = accuracy_score(y_test, y_pred)*100\n",
    "conf_matrix=confusion_matrix(y_test,y_pred)\n",
    "print(f\"KNeighbors Classifier accuracy is: {acc}\")\n",
    "print(f\"Confusion matrix of KNeighbors Classifier :{conf_matrix}\")\n",
    "sns.heatmap(conf_matrix, annot=True)"
   ]
  },
  {
   "cell_type": "code",
   "execution_count": null,
   "id": "d44c8a14",
   "metadata": {},
   "outputs": [],
   "source": []
  }
 ],
 "metadata": {
  "kernelspec": {
   "display_name": "Python 3 (ipykernel)",
   "language": "python",
   "name": "python3"
  },
  "language_info": {
   "codemirror_mode": {
    "name": "ipython",
    "version": 3
   },
   "file_extension": ".py",
   "mimetype": "text/x-python",
   "name": "python",
   "nbconvert_exporter": "python",
   "pygments_lexer": "ipython3",
   "version": "3.9.7"
  }
 },
 "nbformat": 4,
 "nbformat_minor": 5
}
