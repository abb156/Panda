{
 "cells": [
  {
   "cell_type": "code",
   "execution_count": 1,
   "id": "6a56cf1d",
   "metadata": {},
   "outputs": [],
   "source": [
    "import pandas as pd\n",
    "import numpy as np\n",
    "import seaborn as sns\n",
    "import matplotlib.pyplot as plt"
   ]
  },
  {
   "cell_type": "code",
   "execution_count": 2,
   "id": "f748747c",
   "metadata": {},
   "outputs": [],
   "source": [
    "data = pd.read_csv(\"heart_disease dataset.csv\")"
   ]
  },
  {
   "cell_type": "code",
   "execution_count": 3,
   "id": "c036f4dc",
   "metadata": {},
   "outputs": [
    {
     "data": {
      "text/html": [
       "<div>\n",
       "<style scoped>\n",
       "    .dataframe tbody tr th:only-of-type {\n",
       "        vertical-align: middle;\n",
       "    }\n",
       "\n",
       "    .dataframe tbody tr th {\n",
       "        vertical-align: top;\n",
       "    }\n",
       "\n",
       "    .dataframe thead th {\n",
       "        text-align: right;\n",
       "    }\n",
       "</style>\n",
       "<table border=\"1\" class=\"dataframe\">\n",
       "  <thead>\n",
       "    <tr style=\"text-align: right;\">\n",
       "      <th></th>\n",
       "      <th>age</th>\n",
       "      <th>sex</th>\n",
       "      <th>cp</th>\n",
       "      <th>trestbps</th>\n",
       "      <th>chol</th>\n",
       "      <th>fbs</th>\n",
       "      <th>restecg</th>\n",
       "      <th>thalach</th>\n",
       "      <th>exang</th>\n",
       "      <th>oldpeak</th>\n",
       "      <th>slope</th>\n",
       "      <th>ca</th>\n",
       "      <th>thal</th>\n",
       "      <th>target</th>\n",
       "    </tr>\n",
       "  </thead>\n",
       "  <tbody>\n",
       "    <tr>\n",
       "      <th>0</th>\n",
       "      <td>52</td>\n",
       "      <td>1</td>\n",
       "      <td>0</td>\n",
       "      <td>125</td>\n",
       "      <td>212</td>\n",
       "      <td>0</td>\n",
       "      <td>1</td>\n",
       "      <td>168</td>\n",
       "      <td>0</td>\n",
       "      <td>1.0</td>\n",
       "      <td>2</td>\n",
       "      <td>2</td>\n",
       "      <td>3</td>\n",
       "      <td>0</td>\n",
       "    </tr>\n",
       "    <tr>\n",
       "      <th>1</th>\n",
       "      <td>53</td>\n",
       "      <td>1</td>\n",
       "      <td>0</td>\n",
       "      <td>140</td>\n",
       "      <td>203</td>\n",
       "      <td>1</td>\n",
       "      <td>0</td>\n",
       "      <td>155</td>\n",
       "      <td>1</td>\n",
       "      <td>3.1</td>\n",
       "      <td>0</td>\n",
       "      <td>0</td>\n",
       "      <td>3</td>\n",
       "      <td>0</td>\n",
       "    </tr>\n",
       "    <tr>\n",
       "      <th>2</th>\n",
       "      <td>70</td>\n",
       "      <td>1</td>\n",
       "      <td>0</td>\n",
       "      <td>145</td>\n",
       "      <td>174</td>\n",
       "      <td>0</td>\n",
       "      <td>1</td>\n",
       "      <td>125</td>\n",
       "      <td>1</td>\n",
       "      <td>2.6</td>\n",
       "      <td>0</td>\n",
       "      <td>0</td>\n",
       "      <td>3</td>\n",
       "      <td>0</td>\n",
       "    </tr>\n",
       "    <tr>\n",
       "      <th>3</th>\n",
       "      <td>61</td>\n",
       "      <td>1</td>\n",
       "      <td>0</td>\n",
       "      <td>148</td>\n",
       "      <td>203</td>\n",
       "      <td>0</td>\n",
       "      <td>1</td>\n",
       "      <td>161</td>\n",
       "      <td>0</td>\n",
       "      <td>0.0</td>\n",
       "      <td>2</td>\n",
       "      <td>1</td>\n",
       "      <td>3</td>\n",
       "      <td>0</td>\n",
       "    </tr>\n",
       "    <tr>\n",
       "      <th>4</th>\n",
       "      <td>62</td>\n",
       "      <td>0</td>\n",
       "      <td>0</td>\n",
       "      <td>138</td>\n",
       "      <td>294</td>\n",
       "      <td>1</td>\n",
       "      <td>1</td>\n",
       "      <td>106</td>\n",
       "      <td>0</td>\n",
       "      <td>1.9</td>\n",
       "      <td>1</td>\n",
       "      <td>3</td>\n",
       "      <td>2</td>\n",
       "      <td>0</td>\n",
       "    </tr>\n",
       "    <tr>\n",
       "      <th>...</th>\n",
       "      <td>...</td>\n",
       "      <td>...</td>\n",
       "      <td>...</td>\n",
       "      <td>...</td>\n",
       "      <td>...</td>\n",
       "      <td>...</td>\n",
       "      <td>...</td>\n",
       "      <td>...</td>\n",
       "      <td>...</td>\n",
       "      <td>...</td>\n",
       "      <td>...</td>\n",
       "      <td>...</td>\n",
       "      <td>...</td>\n",
       "      <td>...</td>\n",
       "    </tr>\n",
       "    <tr>\n",
       "      <th>1020</th>\n",
       "      <td>59</td>\n",
       "      <td>1</td>\n",
       "      <td>1</td>\n",
       "      <td>140</td>\n",
       "      <td>221</td>\n",
       "      <td>0</td>\n",
       "      <td>1</td>\n",
       "      <td>164</td>\n",
       "      <td>1</td>\n",
       "      <td>0.0</td>\n",
       "      <td>2</td>\n",
       "      <td>0</td>\n",
       "      <td>2</td>\n",
       "      <td>1</td>\n",
       "    </tr>\n",
       "    <tr>\n",
       "      <th>1021</th>\n",
       "      <td>60</td>\n",
       "      <td>1</td>\n",
       "      <td>0</td>\n",
       "      <td>125</td>\n",
       "      <td>258</td>\n",
       "      <td>0</td>\n",
       "      <td>0</td>\n",
       "      <td>141</td>\n",
       "      <td>1</td>\n",
       "      <td>2.8</td>\n",
       "      <td>1</td>\n",
       "      <td>1</td>\n",
       "      <td>3</td>\n",
       "      <td>0</td>\n",
       "    </tr>\n",
       "    <tr>\n",
       "      <th>1022</th>\n",
       "      <td>47</td>\n",
       "      <td>1</td>\n",
       "      <td>0</td>\n",
       "      <td>110</td>\n",
       "      <td>275</td>\n",
       "      <td>0</td>\n",
       "      <td>0</td>\n",
       "      <td>118</td>\n",
       "      <td>1</td>\n",
       "      <td>1.0</td>\n",
       "      <td>1</td>\n",
       "      <td>1</td>\n",
       "      <td>2</td>\n",
       "      <td>0</td>\n",
       "    </tr>\n",
       "    <tr>\n",
       "      <th>1023</th>\n",
       "      <td>50</td>\n",
       "      <td>0</td>\n",
       "      <td>0</td>\n",
       "      <td>110</td>\n",
       "      <td>254</td>\n",
       "      <td>0</td>\n",
       "      <td>0</td>\n",
       "      <td>159</td>\n",
       "      <td>0</td>\n",
       "      <td>0.0</td>\n",
       "      <td>2</td>\n",
       "      <td>0</td>\n",
       "      <td>2</td>\n",
       "      <td>1</td>\n",
       "    </tr>\n",
       "    <tr>\n",
       "      <th>1024</th>\n",
       "      <td>54</td>\n",
       "      <td>1</td>\n",
       "      <td>0</td>\n",
       "      <td>120</td>\n",
       "      <td>188</td>\n",
       "      <td>0</td>\n",
       "      <td>1</td>\n",
       "      <td>113</td>\n",
       "      <td>0</td>\n",
       "      <td>1.4</td>\n",
       "      <td>1</td>\n",
       "      <td>1</td>\n",
       "      <td>3</td>\n",
       "      <td>0</td>\n",
       "    </tr>\n",
       "  </tbody>\n",
       "</table>\n",
       "<p>1025 rows × 14 columns</p>\n",
       "</div>"
      ],
      "text/plain": [
       "      age  sex  cp  trestbps  chol  fbs  restecg  thalach  exang  oldpeak  \\\n",
       "0      52    1   0       125   212    0        1      168      0      1.0   \n",
       "1      53    1   0       140   203    1        0      155      1      3.1   \n",
       "2      70    1   0       145   174    0        1      125      1      2.6   \n",
       "3      61    1   0       148   203    0        1      161      0      0.0   \n",
       "4      62    0   0       138   294    1        1      106      0      1.9   \n",
       "...   ...  ...  ..       ...   ...  ...      ...      ...    ...      ...   \n",
       "1020   59    1   1       140   221    0        1      164      1      0.0   \n",
       "1021   60    1   0       125   258    0        0      141      1      2.8   \n",
       "1022   47    1   0       110   275    0        0      118      1      1.0   \n",
       "1023   50    0   0       110   254    0        0      159      0      0.0   \n",
       "1024   54    1   0       120   188    0        1      113      0      1.4   \n",
       "\n",
       "      slope  ca  thal  target  \n",
       "0         2   2     3       0  \n",
       "1         0   0     3       0  \n",
       "2         0   0     3       0  \n",
       "3         2   1     3       0  \n",
       "4         1   3     2       0  \n",
       "...     ...  ..   ...     ...  \n",
       "1020      2   0     2       1  \n",
       "1021      1   1     3       0  \n",
       "1022      1   1     2       0  \n",
       "1023      2   0     2       1  \n",
       "1024      1   1     3       0  \n",
       "\n",
       "[1025 rows x 14 columns]"
      ]
     },
     "execution_count": 3,
     "metadata": {},
     "output_type": "execute_result"
    }
   ],
   "source": [
    "data"
   ]
  },
  {
   "cell_type": "code",
   "execution_count": 12,
   "id": "5c67d8bf",
   "metadata": {},
   "outputs": [
    {
     "ename": "NameError",
     "evalue": "name 'df' is not defined",
     "output_type": "error",
     "traceback": [
      "\u001b[1;31m---------------------------------------------------------------------------\u001b[0m",
      "\u001b[1;31mNameError\u001b[0m                                 Traceback (most recent call last)",
      "\u001b[1;32mC:\\Users\\ABDULB~1\\AppData\\Local\\Temp/ipykernel_10040/3627053830.py\u001b[0m in \u001b[0;36m<module>\u001b[1;34m\u001b[0m\n\u001b[1;32m----> 1\u001b[1;33m \u001b[0mdf\u001b[0m\u001b[1;33m.\u001b[0m\u001b[0mdescribe\u001b[0m\u001b[1;33m(\u001b[0m\u001b[1;33m)\u001b[0m\u001b[1;33m\u001b[0m\u001b[1;33m\u001b[0m\u001b[0m\n\u001b[0m",
      "\u001b[1;31mNameError\u001b[0m: name 'df' is not defined"
     ]
    }
   ],
   "source": [
    "df.describe()"
   ]
  },
  {
   "cell_type": "code",
   "execution_count": 16,
   "id": "1c78c47e",
   "metadata": {},
   "outputs": [
    {
     "data": {
      "text/plain": [
       "age           int64\n",
       "sex           int64\n",
       "cp            int64\n",
       "trestbps      int64\n",
       "chol          int64\n",
       "fbs           int64\n",
       "restecg       int64\n",
       "thalach       int64\n",
       "exang         int64\n",
       "oldpeak     float64\n",
       "slope         int64\n",
       "ca            int64\n",
       "thal          int64\n",
       "target        int64\n",
       "dtype: object"
      ]
     },
     "execution_count": 16,
     "metadata": {},
     "output_type": "execute_result"
    }
   ],
   "source": [
    "pd.set_option('display.max_rows', 800)\n",
    "data.dtypes"
   ]
  },
  {
   "cell_type": "code",
   "execution_count": 17,
   "id": "eb9805b0",
   "metadata": {},
   "outputs": [
    {
     "data": {
      "text/plain": [
       "Index(['age', 'sex', 'cp', 'trestbps', 'chol', 'fbs', 'restecg', 'thalach',\n",
       "       'exang', 'oldpeak', 'slope', 'ca', 'thal', 'target'],\n",
       "      dtype='object')"
      ]
     },
     "execution_count": 17,
     "metadata": {},
     "output_type": "execute_result"
    }
   ],
   "source": [
    "data.columns"
   ]
  },
  {
   "cell_type": "markdown",
   "id": "e10356e1",
   "metadata": {},
   "source": [
    "# Model Evaluation"
   ]
  },
  {
   "cell_type": "code",
   "execution_count": 19,
   "id": "8925a417",
   "metadata": {},
   "outputs": [],
   "source": [
    "import numpy as np\n",
    "from sklearn.model_selection import train_test_split\n",
    "from sklearn.tree import DecisionTreeClassifier\n",
    "from sklearn.neighbors import KNeighborsClassifier\n",
    "from sklearn.ensemble import RandomForestClassifier\n",
    "from sklearn.linear_model import LogisticRegression\n",
    "from sklearn.naive_bayes import GaussianNB\n",
    "from sklearn.metrics import accuracy_score, confusion_matrix"
   ]
  },
  {
   "cell_type": "markdown",
   "id": "52f3a1af",
   "metadata": {},
   "source": [
    "Train Test Split"
   ]
  },
  {
   "cell_type": "code",
   "execution_count": 20,
   "id": "ef77f9bc",
   "metadata": {},
   "outputs": [
    {
     "name": "stdout",
     "output_type": "stream",
     "text": [
      "[0. 0. 0. ... 0. 1. 0.]\n"
     ]
    }
   ],
   "source": [
    "arr = data.values\n",
    "\n",
    "X = arr[:,0:-1]\n",
    "y = arr[:,-1]\n",
    "\n",
    "testing_size = 0.2\n",
    "print(y)"
   ]
  },
  {
   "cell_type": "code",
   "execution_count": 21,
   "id": "e166c3df",
   "metadata": {},
   "outputs": [],
   "source": [
    "x = data.drop( \"slope\" ,axis=1)\n",
    "y = data [\"slope\"]"
   ]
  },
  {
   "cell_type": "code",
   "execution_count": 22,
   "id": "762e3281",
   "metadata": {},
   "outputs": [
    {
     "name": "stdout",
     "output_type": "stream",
     "text": [
      "      age  sex  cp  trestbps  chol  fbs  restecg  thalach  exang  oldpeak  ca  \\\n",
      "0      52    1   0       125   212    0        1      168      0      1.0   2   \n",
      "1      53    1   0       140   203    1        0      155      1      3.1   0   \n",
      "2      70    1   0       145   174    0        1      125      1      2.6   0   \n",
      "3      61    1   0       148   203    0        1      161      0      0.0   1   \n",
      "4      62    0   0       138   294    1        1      106      0      1.9   3   \n",
      "...   ...  ...  ..       ...   ...  ...      ...      ...    ...      ...  ..   \n",
      "1020   59    1   1       140   221    0        1      164      1      0.0   0   \n",
      "1021   60    1   0       125   258    0        0      141      1      2.8   1   \n",
      "1022   47    1   0       110   275    0        0      118      1      1.0   1   \n",
      "1023   50    0   0       110   254    0        0      159      0      0.0   0   \n",
      "1024   54    1   0       120   188    0        1      113      0      1.4   1   \n",
      "\n",
      "      thal  target  \n",
      "0        3       0  \n",
      "1        3       0  \n",
      "2        3       0  \n",
      "3        3       0  \n",
      "4        2       0  \n",
      "...    ...     ...  \n",
      "1020     2       1  \n",
      "1021     3       0  \n",
      "1022     2       0  \n",
      "1023     2       1  \n",
      "1024     3       0  \n",
      "\n",
      "[1025 rows x 13 columns]\n",
      "0       2\n",
      "1       0\n",
      "2       0\n",
      "3       2\n",
      "4       1\n",
      "       ..\n",
      "1020    2\n",
      "1021    1\n",
      "1022    1\n",
      "1023    2\n",
      "1024    1\n",
      "Name: slope, Length: 1025, dtype: int64\n"
     ]
    }
   ],
   "source": [
    "print (x)\n",
    "print (y)"
   ]
  },
  {
   "cell_type": "code",
   "execution_count": 23,
   "id": "e256498b",
   "metadata": {},
   "outputs": [],
   "source": [
    "X_train, X_test, y_train, y_test = train_test_split(x, y, test_size=testing_size)"
   ]
  },
  {
   "cell_type": "code",
   "execution_count": 24,
   "id": "29c98ed9",
   "metadata": {},
   "outputs": [
    {
     "name": "stdout",
     "output_type": "stream",
     "text": [
      "195     2\n",
      "850     1\n",
      "193     1\n",
      "290     2\n",
      "685     1\n",
      "714     2\n",
      "640     1\n",
      "560     1\n",
      "571     1\n",
      "297     2\n",
      "129     1\n",
      "432     2\n",
      "508     0\n",
      "1009    2\n",
      "467     1\n",
      "905     0\n",
      "829     1\n",
      "898     1\n",
      "61      1\n",
      "163     1\n",
      "1013    0\n",
      "726     1\n",
      "738     2\n",
      "49      2\n",
      "654     2\n",
      "7       1\n",
      "841     2\n",
      "721     2\n",
      "493     1\n",
      "294     0\n",
      "705     1\n",
      "643     2\n",
      "488     2\n",
      "323     1\n",
      "852     2\n",
      "613     0\n",
      "543     2\n",
      "679     1\n",
      "775     1\n",
      "13      1\n",
      "256     2\n",
      "814     2\n",
      "756     0\n",
      "208     2\n",
      "813     0\n",
      "750     2\n",
      "934     2\n",
      "661     0\n",
      "515     1\n",
      "807     2\n",
      "557     2\n",
      "20      1\n",
      "0       2\n",
      "67      1\n",
      "326     2\n",
      "35      1\n",
      "800     1\n",
      "482     1\n",
      "886     1\n",
      "422     2\n",
      "802     1\n",
      "690     1\n",
      "38      1\n",
      "411     1\n",
      "197     2\n",
      "376     2\n",
      "116     1\n",
      "385     2\n",
      "450     1\n",
      "698     2\n",
      "447     1\n",
      "126     1\n",
      "791     1\n",
      "826     2\n",
      "628     2\n",
      "300     2\n",
      "952     2\n",
      "568     2\n",
      "559     1\n",
      "309     1\n",
      "978     2\n",
      "368     1\n",
      "836     2\n",
      "168     2\n",
      "405     1\n",
      "105     1\n",
      "651     2\n",
      "869     2\n",
      "623     1\n",
      "363     2\n",
      "646     2\n",
      "408     1\n",
      "844     1\n",
      "151     2\n",
      "180     2\n",
      "135     1\n",
      "722     2\n",
      "52      2\n",
      "617     2\n",
      "340     2\n",
      "656     1\n",
      "991     2\n",
      "302     2\n",
      "1008    2\n",
      "545     0\n",
      "593     1\n",
      "614     1\n",
      "820     2\n",
      "787     1\n",
      "666     2\n",
      "581     2\n",
      "877     1\n",
      "310     1\n",
      "892     1\n",
      "226     2\n",
      "555     1\n",
      "455     1\n",
      "104     1\n",
      "228     2\n",
      "139     2\n",
      "518     1\n",
      "350     1\n",
      "734     1\n",
      "216     1\n",
      "472     1\n",
      "185     1\n",
      "517     2\n",
      "255     1\n",
      "373     1\n",
      "542     1\n",
      "107     1\n",
      "100     1\n",
      "369     2\n",
      "576     1\n",
      "1006    2\n",
      "51      1\n",
      "895     1\n",
      "266     1\n",
      "204     1\n",
      "445     2\n",
      "901     1\n",
      "771     1\n",
      "273     1\n",
      "748     2\n",
      "514     2\n",
      "730     2\n",
      "994     1\n",
      "590     2\n",
      "24      1\n",
      "711     1\n",
      "259     1\n",
      "18      2\n",
      "676     2\n",
      "27      2\n",
      "386     1\n",
      "399     0\n",
      "327     1\n",
      "743     1\n",
      "395     1\n",
      "715     2\n",
      "301     2\n",
      "202     1\n",
      "59      2\n",
      "611     1\n",
      "795     2\n",
      "161     1\n",
      "239     1\n",
      "693     2\n",
      "34      2\n",
      "605     2\n",
      "717     1\n",
      "917     2\n",
      "92      2\n",
      "72      1\n",
      "470     2\n",
      "274     2\n",
      "113     1\n",
      "562     1\n",
      "967     2\n",
      "854     1\n",
      "866     2\n",
      "818     2\n",
      "164     1\n",
      "567     1\n",
      "334     1\n",
      "331     1\n",
      "712     1\n",
      "749     1\n",
      "428     1\n",
      "1018    2\n",
      "953     1\n",
      "925     1\n",
      "534     2\n",
      "631     2\n",
      "966     1\n",
      "155     2\n",
      "539     1\n",
      "584     1\n",
      "317     2\n",
      "167     2\n",
      "842     1\n",
      "687     2\n",
      "641     1\n",
      "452     1\n",
      "973     1\n",
      "Name: slope, dtype: int64\n"
     ]
    }
   ],
   "source": [
    "print(y_test)"
   ]
  },
  {
   "cell_type": "code",
   "execution_count": 25,
   "id": "093fb01c",
   "metadata": {},
   "outputs": [
    {
     "name": "stdout",
     "output_type": "stream",
     "text": [
      "Decision Tree accuracy score is: 98.53658536585365\n"
     ]
    }
   ],
   "source": [
    "DT = DecisionTreeClassifier()\n",
    "DT.fit(X_train, y_train)\n",
    "y_pred = DT.predict(X_test)\n",
    "acc = accuracy_score(y_test, y_pred)*100\n",
    "print(f\"Decision Tree accuracy score is: {acc}\")"
   ]
  },
  {
   "cell_type": "code",
   "execution_count": 26,
   "id": "9fa9f5de",
   "metadata": {},
   "outputs": [
    {
     "name": "stdout",
     "output_type": "stream",
     "text": [
      "Random Forest accuracy is: 97.07317073170731\n"
     ]
    }
   ],
   "source": [
    "RT = RandomForestClassifier()\n",
    "RT.fit(X_train, y_train)\n",
    "y_pred = RT.predict(X_test)\n",
    "acc = accuracy_score(y_test, y_pred)*100\n",
    "print(f\"Random Forest accuracy is: {acc}\")"
   ]
  },
  {
   "cell_type": "code",
   "execution_count": 27,
   "id": "d9e06f5f",
   "metadata": {},
   "outputs": [
    {
     "name": "stdout",
     "output_type": "stream",
     "text": [
      "Logistic Regression accuracy is: 67.31707317073172\n"
     ]
    },
    {
     "name": "stderr",
     "output_type": "stream",
     "text": [
      "C:\\Users\\Abdul Basit\\anaconda3\\lib\\site-packages\\sklearn\\linear_model\\_logistic.py:763: ConvergenceWarning: lbfgs failed to converge (status=1):\n",
      "STOP: TOTAL NO. of ITERATIONS REACHED LIMIT.\n",
      "\n",
      "Increase the number of iterations (max_iter) or scale the data as shown in:\n",
      "    https://scikit-learn.org/stable/modules/preprocessing.html\n",
      "Please also refer to the documentation for alternative solver options:\n",
      "    https://scikit-learn.org/stable/modules/linear_model.html#logistic-regression\n",
      "  n_iter_i = _check_optimize_result(\n"
     ]
    }
   ],
   "source": [
    "LR = LogisticRegression()\n",
    "LR.fit(X_train, y_train)\n",
    "y_pred = LR.predict(X_test)\n",
    "acc = accuracy_score(y_test, y_pred)*100\n",
    "print(f\"Logistic Regression accuracy is: {acc}\")"
   ]
  },
  {
   "cell_type": "code",
   "execution_count": 28,
   "id": "f2daa3cb",
   "metadata": {},
   "outputs": [
    {
     "name": "stdout",
     "output_type": "stream",
     "text": [
      "Gaussian NB accuracy is: 68.29268292682927\n"
     ]
    }
   ],
   "source": [
    "GNB = GaussianNB()\n",
    "GNB.fit(X_train, y_train)\n",
    "y_pred = GNB.predict(X_test)\n",
    "acc = accuracy_score(y_test, y_pred)*100\n",
    "print(f\"Gaussian NB accuracy is: {acc}\")"
   ]
  },
  {
   "cell_type": "code",
   "execution_count": 30,
   "id": "22d03893",
   "metadata": {},
   "outputs": [],
   "source": [
    "models = []\n",
    "models.append(('DT',DecisionTreeClassifier()))\n",
    "models.append(('RT',RandomForestClassifier()))\n",
    "models.append(('KNN', KNeighborsClassifier()))\n",
    "models.append(('LR', LogisticRegression()))\n",
    "models.append(('GNB', GaussianNB()))"
   ]
  },
  {
   "cell_type": "code",
   "execution_count": 31,
   "id": "e4f0f1a4",
   "metadata": {},
   "outputs": [
    {
     "name": "stdout",
     "output_type": "stream",
     "text": [
      "[('DT', DecisionTreeClassifier()), ('RT', RandomForestClassifier()), ('KNN', KNeighborsClassifier()), ('LR', LogisticRegression()), ('GNB', GaussianNB())]\n"
     ]
    }
   ],
   "source": [
    "print(models)"
   ]
  },
  {
   "cell_type": "code",
   "execution_count": 32,
   "id": "9c88fb26",
   "metadata": {},
   "outputs": [],
   "source": [
    "cn_metrics = []"
   ]
  },
  {
   "cell_type": "code",
   "execution_count": 33,
   "id": "ee52bbb8",
   "metadata": {},
   "outputs": [],
   "source": [
    "names = []\n",
    "results = []"
   ]
  },
  {
   "cell_type": "code",
   "execution_count": 34,
   "id": "74a8cfa6",
   "metadata": {},
   "outputs": [
    {
     "name": "stdout",
     "output_type": "stream",
     "text": [
      "[98.53658536585365]\n",
      "[98.53658536585365, 97.07317073170731]\n",
      "[98.53658536585365, 97.07317073170731, 67.31707317073172]\n",
      "[98.53658536585365, 97.07317073170731, 67.31707317073172, 67.31707317073172]\n",
      "[98.53658536585365, 97.07317073170731, 67.31707317073172, 67.31707317073172, 68.29268292682927]\n"
     ]
    },
    {
     "name": "stderr",
     "output_type": "stream",
     "text": [
      "C:\\Users\\Abdul Basit\\anaconda3\\lib\\site-packages\\sklearn\\linear_model\\_logistic.py:763: ConvergenceWarning: lbfgs failed to converge (status=1):\n",
      "STOP: TOTAL NO. of ITERATIONS REACHED LIMIT.\n",
      "\n",
      "Increase the number of iterations (max_iter) or scale the data as shown in:\n",
      "    https://scikit-learn.org/stable/modules/preprocessing.html\n",
      "Please also refer to the documentation for alternative solver options:\n",
      "    https://scikit-learn.org/stable/modules/linear_model.html#logistic-regression\n",
      "  n_iter_i = _check_optimize_result(\n"
     ]
    }
   ],
   "source": [
    "for name, model in models:\n",
    "    obj = model\n",
    "    names.append(name)\n",
    "    obj.fit(X_train, y_train)\n",
    "    y_pred = obj.predict(X_test)\n",
    "    results.append(accuracy_score(y_test, y_pred)*100)\n",
    "    print(results)"
   ]
  },
  {
   "cell_type": "code",
   "execution_count": 35,
   "id": "1b829163",
   "metadata": {},
   "outputs": [],
   "source": [
    "import matplotlib.pyplot as plt"
   ]
  },
  {
   "cell_type": "code",
   "execution_count": 36,
   "id": "312ad720",
   "metadata": {},
   "outputs": [
    {
     "data": {
      "text/plain": [
       "<matplotlib.collections.PathCollection at 0x274c930e3d0>"
      ]
     },
     "execution_count": 36,
     "metadata": {},
     "output_type": "execute_result"
    },
    {
     "data": {
      "image/png": "[encoded data removed]",
      "text/plain": [
       "<Figure size 432x288 with 1 Axes>"
      ]
     },
     "metadata": {
      "needs_background": "light"
     },
     "output_type": "display_data"
    }
   ],
   "source": [
    "plt.scatter(names, results)"
   ]
  },
  {
   "cell_type": "code",
   "execution_count": 37,
   "id": "18b44628",
   "metadata": {},
   "outputs": [
    {
     "name": "stdout",
     "output_type": "stream",
     "text": [
      "[2 1 1 2 1 2 1 1 1 2 1 2 0 2 1 0 1 1 1 1 0 1 2 2 2 1 2 2 1 0 1 2 2 1 2 0 2\n",
      " 1 1 1 2 2 0 2 0 2 2 0 1 2 2 1 2 1 2 1 1 1 1 2 1 1 1 1 2 2 1 2 1 2 1 2 1 2\n",
      " 2 2 2 2 1 1 2 1 2 2 1 1 2 2 1 2 2 1 1 2 2 1 2 2 2 2 1 2 2 2 0 1 1 2 1 2 2\n",
      " 1 1 1 2 1 1 1 2 2 1 2 1 1 1 1 2 1 1 1 1 1 2 1 2 1 1 1 1 2 1 1 1 2 2 2 1 2\n",
      " 2 1 2 2 2 2 2 0 1 1 1 2 2 1 2 1 2 1 1 2 2 2 1 2 2 1 2 2 1 2 2 1 2 2 1 1 1\n",
      " 1 1 1 1 2 1 1 2 2 1 2 1 1 2 2 1 2 1 1 1]\n",
      "Random Forest accuracy is: 97.07317073170731\n",
      "Confusion matrix of RandomFrest Classifier :[[ 10   0   0]\n",
      " [  0 101   6]\n",
      " [  0   0  88]]\n"
     ]
    },
    {
     "data": {
      "text/plain": [
       "<AxesSubplot:>"
      ]
     },
     "execution_count": 37,
     "metadata": {},
     "output_type": "execute_result"
    },
    {
     "data": {
      "image/png": "[encoded data removed]",
      "text/plain": [
       "<Figure size 432x288 with 2 Axes>"
      ]
     },
     "metadata": {
      "needs_background": "light"
     },
     "output_type": "display_data"
    }
   ],
   "source": [
    "RT = RandomForestClassifier()\n",
    "RT.fit(X_train, y_train)\n",
    "y_pred = RT.predict(X_test)\n",
    "print(y_pred)\n",
    "acc = accuracy_score(y_test, y_pred)*100\n",
    "conf_matrix=confusion_matrix(y_test,y_pred)\n",
    "print(f\"Random Forest accuracy is: {acc}\")\n",
    "print(f\"Confusion matrix of RandomFrest Classifier :{conf_matrix}\")\n",
    "sns.heatmap(conf_matrix, annot=True)"
   ]
  },
  {
   "cell_type": "code",
   "execution_count": 38,
   "id": "b2e11bd7",
   "metadata": {},
   "outputs": [
    {
     "name": "stdout",
     "output_type": "stream",
     "text": [
      "[2 1 2 2 1 1 2 2 1 1 2 2 0 2 1 1 1 2 2 2 1 2 2 1 2 1 2 2 1 0 1 2 2 1 1 0 2\n",
      " 0 2 1 2 2 1 2 0 2 2 1 1 2 2 1 2 1 2 0 1 1 1 2 1 2 1 1 2 2 1 2 1 1 1 2 1 2\n",
      " 2 2 2 2 1 2 2 2 2 2 1 1 2 2 1 2 2 2 1 2 1 0 2 2 2 2 2 1 2 2 2 1 1 1 1 2 2\n",
      " 2 1 1 1 2 2 2 2 2 1 2 1 1 2 1 2 2 1 2 1 2 2 2 2 1 1 1 2 2 2 2 1 2 2 2 1 1\n",
      " 2 1 2 2 1 2 2 0 1 2 2 2 2 2 2 1 2 2 1 2 2 2 1 2 1 1 2 1 1 2 1 2 2 2 1 2 1\n",
      " 1 2 2 1 2 2 1 2 2 1 2 2 1 2 2 1 2 1 1 0]\n",
      "GaussianNB is: 68.29268292682927\n",
      "Confusion matrix of GaussianNB :[[ 5  4  1]\n",
      " [ 4 61 42]\n",
      " [ 0 14 74]]\n"
     ]
    },
    {
     "data": {
      "text/plain": [
       "<AxesSubplot:>"
      ]
     },
     "execution_count": 38,
     "metadata": {},
     "output_type": "execute_result"
    },
    {
     "data": {
      "image/png": "[encoded data removed]",
      "text/plain": [
       "<Figure size 432x288 with 2 Axes>"
      ]
     },
     "metadata": {
      "needs_background": "light"
     },
     "output_type": "display_data"
    }
   ],
   "source": [
    "GN = GaussianNB()\n",
    "GN.fit(X_train, y_train)\n",
    "y_pred = GN.predict(X_test)\n",
    "print(y_pred)\n",
    "acc = accuracy_score(y_test, y_pred)*100\n",
    "conf_matrix=confusion_matrix(y_test,y_pred)\n",
    "print(f\"GaussianNB is: {acc}\")\n",
    "print(f\"Confusion matrix of GaussianNB :{conf_matrix}\")\n",
    "sns.heatmap(conf_matrix, annot=True)"
   ]
  },
  {
   "cell_type": "code",
   "execution_count": 39,
   "id": "06e38f12",
   "metadata": {},
   "outputs": [
    {
     "name": "stdout",
     "output_type": "stream",
     "text": [
      "[1 1 2 2 1 1 2 2 1 1 2 2 1 2 1 1 1 2 2 2 1 2 2 1 2 1 2 2 1 1 1 2 2 1 2 1 2\n",
      " 1 2 1 2 2 1 2 1 2 2 1 1 2 2 1 2 1 2 1 1 1 1 2 2 2 1 1 2 2 1 2 1 2 1 2 1 2\n",
      " 1 2 2 2 1 1 2 2 2 1 2 1 2 2 1 2 2 2 1 2 1 1 2 2 2 2 2 1 2 2 2 1 1 1 1 2 2\n",
      " 2 1 1 1 2 2 2 2 2 1 2 2 1 2 1 2 1 1 1 1 2 2 2 2 1 1 1 2 2 2 2 1 2 2 2 1 1\n",
      " 2 1 2 2 1 2 2 1 1 2 2 2 2 2 2 1 2 2 1 2 2 2 2 2 1 1 2 1 1 2 2 1 2 2 1 2 1\n",
      " 1 2 2 2 2 2 1 2 2 1 2 2 1 2 2 1 2 1 1 1]\n",
      "Logistic Regression accuracy is: 67.31707317073172\n",
      "Confusion matrix of Logistic Regression :[[ 0  9  1]\n",
      " [ 0 64 43]\n",
      " [ 0 14 74]]\n"
     ]
    },
    {
     "name": "stderr",
     "output_type": "stream",
     "text": [
      "C:\\Users\\Abdul Basit\\anaconda3\\lib\\site-packages\\sklearn\\linear_model\\_logistic.py:763: ConvergenceWarning: lbfgs failed to converge (status=1):\n",
      "STOP: TOTAL NO. of ITERATIONS REACHED LIMIT.\n",
      "\n",
      "Increase the number of iterations (max_iter) or scale the data as shown in:\n",
      "    https://scikit-learn.org/stable/modules/preprocessing.html\n",
      "Please also refer to the documentation for alternative solver options:\n",
      "    https://scikit-learn.org/stable/modules/linear_model.html#logistic-regression\n",
      "  n_iter_i = _check_optimize_result(\n"
     ]
    },
    {
     "data": {
      "text/plain": [
       "<AxesSubplot:>"
      ]
     },
     "execution_count": 39,
     "metadata": {},
     "output_type": "execute_result"
    },
    {
     "data": {
      "image/png": "[encoded data removed]",
      "text/plain": [
       "<Figure size 432x288 with 2 Axes>"
      ]
     },
     "metadata": {
      "needs_background": "light"
     },
     "output_type": "display_data"
    }
   ],
   "source": [
    "LR = LogisticRegression()\n",
    "LR.fit(X_train, y_train)\n",
    "y_pred = LR.predict(X_test)\n",
    "print(y_pred)\n",
    "acc = accuracy_score(y_test, y_pred)*100\n",
    "conf_matrix=confusion_matrix(y_test,y_pred)\n",
    "print(f\"Logistic Regression accuracy is: {acc}\")\n",
    "print(f\"Confusion matrix of Logistic Regression :{conf_matrix}\")\n",
    "sns.heatmap(conf_matrix, annot=True)"
   ]
  },
  {
   "cell_type": "code",
   "execution_count": 40,
   "id": "093436a2",
   "metadata": {},
   "outputs": [
    {
     "name": "stdout",
     "output_type": "stream",
     "text": [
      "[2 2 2 2 2 1 2 1 1 1 1 2 0 2 1 1 1 1 1 2 1 2 2 2 2 1 2 2 1 0 1 1 1 1 1 0 2\n",
      " 0 2 1 2 1 1 2 0 2 0 1 1 1 2 1 2 1 1 1 1 1 1 2 1 2 1 1 2 2 1 1 2 2 1 2 1 0\n",
      " 0 2 2 2 1 2 2 2 1 2 1 1 2 0 1 1 2 2 1 1 1 1 2 2 2 2 2 2 2 2 0 1 2 2 1 2 2\n",
      " 2 1 1 2 2 2 1 2 2 1 2 1 1 1 1 2 1 2 1 1 2 1 2 2 1 1 1 1 2 1 2 1 2 2 2 2 2\n",
      " 2 1 2 1 1 2 2 0 1 1 1 1 2 2 2 1 1 2 0 1 2 2 1 2 1 1 2 2 1 2 1 1 2 2 1 1 1\n",
      " 1 0 1 1 0 2 2 2 2 1 2 1 1 2 2 2 2 2 1 1]\n",
      "KNeighbors Classifier accuracy is: 67.31707317073172\n",
      "Confusion matrix of KNeighbors Classifier :[[ 6  4  0]\n",
      " [ 3 70 34]\n",
      " [ 5 21 62]]\n"
     ]
    },
    {
     "data": {
      "text/plain": [
       "<AxesSubplot:>"
      ]
     },
     "execution_count": 40,
     "metadata": {},
     "output_type": "execute_result"
    },
    {
     "data": {
      "image/png": "[encoded data removed]",
      "text/plain": [
       "<Figure size 432x288 with 2 Axes>"
      ]
     },
     "metadata": {
      "needs_background": "light"
     },
     "output_type": "display_data"
    }
   ],
   "source": [
    "KN = KNeighborsClassifier()\n",
    "KN.fit(X_train, y_train)\n",
    "y_pred = KN.predict(X_test)\n",
    "print(y_pred)\n",
    "acc = accuracy_score(y_test, y_pred)*100\n",
    "conf_matrix=confusion_matrix(y_test,y_pred)\n",
    "print(f\"KNeighbors Classifier accuracy is: {acc}\")\n",
    "print(f\"Confusion matrix of KNeighbors Classifier :{conf_matrix}\")\n",
    "sns.heatmap(conf_matrix, annot=True)"
   ]
  },
  {
   "cell_type": "code",
   "execution_count": 41,
   "id": "51243c54",
   "metadata": {},
   "outputs": [
    {
     "data": {
      "text/plain": [
       "<AxesSubplot:xlabel='slope', ylabel='chol'>"
      ]
     },
     "execution_count": 41,
     "metadata": {},
     "output_type": "execute_result"
    },
    {
     "data": {
      "image/png": "[encoded data removed]",
      "text/plain": [
       "<Figure size 432x288 with 1 Axes>"
      ]
     },
     "metadata": {
      "needs_background": "light"
     },
     "output_type": "display_data"
    }
   ],
   "source": [
    "sns.histplot(data, x='slope', y='chol')"
   ]
  },
  {
   "cell_type": "code",
   "execution_count": 42,
   "id": "1003a760",
   "metadata": {},
   "outputs": [
    {
     "data": {
      "text/plain": [
       "<AxesSubplot:xlabel='target', ylabel='chol'>"
      ]
     },
     "execution_count": 42,
     "metadata": {},
     "output_type": "execute_result"
    },
    {
     "data": {
      "image/png": "[encoded data removed]",
      "text/plain": [
       "<Figure size 432x288 with 1 Axes>"
      ]
     },
     "metadata": {
      "needs_background": "light"
     },
     "output_type": "display_data"
    }
   ],
   "source": [
    "sns.histplot(data, x='target', y='chol')"
   ]
  },
  {
   "cell_type": "code",
   "execution_count": 46,
   "id": "ac3ec3fe",
   "metadata": {},
   "outputs": [
    {
     "data": {
      "text/plain": [
       "<matplotlib.collections.PathCollection at 0x274ca88a280>"
      ]
     },
     "execution_count": 46,
     "metadata": {},
     "output_type": "execute_result"
    },
    {
     "data": {
      "image/png": "[encoded data removed]",
      "text/plain": [
       "<Figure size 432x288 with 1 Axes>"
      ]
     },
     "metadata": {
      "needs_background": "light"
     },
     "output_type": "display_data"
    }
   ],
   "source": [
    "plt.scatter(data[\"slope\"], data[\"chol\"])"
   ]
  },
  {
   "cell_type": "code",
   "execution_count": 49,
   "id": "ab98e24f",
   "metadata": {},
   "outputs": [
    {
     "data": {
      "image/png": "[encoded data removed]",
      "text/plain": [
       "<Figure size 432x432 with 3 Axes>"
      ]
     },
     "metadata": {
      "needs_background": "light"
     },
     "output_type": "display_data"
    }
   ],
   "source": [
    "sns.jointplot(\"slope\", \"chol\", data, kind=\"kde\", color=\"b\");"
   ]
  },
  {
   "cell_type": "code",
   "execution_count": null,
   "id": "3e7e6c96",
   "metadata": {},
   "outputs": [],
   "source": []
  }
 ],
 "metadata": {
  "kernelspec": {
   "display_name": "Python 3 (ipykernel)",
   "language": "python",
   "name": "python3"
  },
  "language_info": {
   "codemirror_mode": {
    "name": "ipython",
    "version": 3
   },
   "file_extension": ".py",
   "mimetype": "text/x-python",
   "name": "python",
   "nbconvert_exporter": "python",
   "pygments_lexer": "ipython3",
   "version": "3.9.7"
  }
 },
 "nbformat": 4,
 "nbformat_minor": 5
}
